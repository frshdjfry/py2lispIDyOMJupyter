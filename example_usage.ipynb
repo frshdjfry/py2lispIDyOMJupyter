{
 "cells": [
  {
   "cell_type": "markdown",
   "id": "7dc7158f-de65-48e1-ad2e-ff4b2e84ef17",
   "metadata": {},
   "source": [
    "### Importing python lisp-wrapper\n",
    "We need to import the modified version of py2lispIDyOM from the \"py2lisp\" directory. This version introduces the option to use a \"harmony\" texture instead of the default \"melody\" setting. This modification allows IDyOM to retrieve harmonic sequences, which are essential for generating predictions, information content (IC), and entropy using the harmonic viewpoints available in IDyOM."
   ]
  },
  {
   "cell_type": "code",
   "execution_count": 19,
   "id": "4617a451-0fce-4599-97d1-cf43f21f00e6",
   "metadata": {},
   "outputs": [],
   "source": [
    "from py2lisp.run import IDyOMExperiment"
   ]
  },
  {
   "cell_type": "markdown",
   "id": "3cfbce23-b960-45a0-9cc3-86158a4fd191",
   "metadata": {},
   "source": [
    "### Importing midi data\n",
    "The extraction of harmonic sequences relies on simultaneous musical events. Therefore, we converted Cocopops harm data into Kern format, and subsequently into MIDI format. To initiate an experiment, we first specify the folder containing the MIDI files."
   ]
  },
  {
   "cell_type": "code",
   "execution_count": 20,
   "id": "dab431a4-2de8-46c0-b47e-a368740dbcfa",
   "metadata": {},
   "outputs": [
    {
     "name": "stdout",
     "output_type": "stream",
     "text": [
      "** Putting Test dataset files in experiment history folder. **\n",
      "** No pretraining dataset detected. **\n"
     ]
    }
   ],
   "source": [
    "my_experiment = IDyOMExperiment(test_dataset_path='midi_billboard/')"
   ]
  },
  {
   "cell_type": "markdown",
   "id": "ac896ca9-978d-407f-a64d-4daff6c03c39",
   "metadata": {},
   "source": [
    "### Idyom Parameters \n",
    "Next, we set up the IDyOM parameters, including the source and target viewpoints, as well as the model configuration (LTM, STM, or both). For list of available harmonic viewpoints see (https://github.gatech.edu/fjafari3/IDyOM-Jupyter-Docker).\n"
   ]
  },
  {
   "cell_type": "code",
   "execution_count": 21,
   "id": "c77a2ae9-df6a-47c7-b945-207fa56ab199",
   "metadata": {},
   "outputs": [],
   "source": [
    "my_experiment.set_parameters(target_viewpoints=['h-cpitch'],\n",
    "                             source_viewpoints=['h-cpitch'],\n",
    "                             models=':both',\n",
    "                             k=1,\n",
    "                             texture=':harmony',\n",
    "                             detail=3)"
   ]
  },
  {
   "cell_type": "markdown",
   "id": "a8ace5d3-d7cb-4b46-a560-0b512e40491d",
   "metadata": {},
   "source": [
    "### Calculation\n",
    "The results of the experiment will be stored in the experiment_history folder, with the folder name reflecting the date and time of the experiment."
   ]
  },
  {
   "cell_type": "code",
   "execution_count": 24,
   "id": "bf7e320d-47b1-4b20-8874-f636af05008e",
   "metadata": {},
   "outputs": [
    {
     "name": "stdout",
     "output_type": "stream",
     "text": [
      "** running lisp script **\n",
      "To load \"clsql\":\n",
      "  Load 1 ASDF system:\n",
      "    clsql\n",
      "; Loading \"clsql\"\n",
      "\n",
      "To load \"idyom\":\n",
      "  Load 1 ASDF system:\n",
      "    idyom\n",
      "; Loading \"idyom\"\n",
      "..............\n",
      "\n",
      "Inserting 7 compositions into database: dataset 66030524063816.\n",
      "| Progress: -----------------------------------------------|\n",
      "============================================================\n",
      "Written resampling set to /root/idyom/data/resampling/66030524063816-1.resample.\n",
      "Written PPM* model to /root/idyom/data/models/h-cpitch_NIL_66030524063816-1:1_harmony.ppm.\n",
      " \n",
      "** Finished! **\n"
     ]
    }
   ],
   "source": [
    "my_experiment.run()"
   ]
  },
  {
   "cell_type": "code",
   "execution_count": null,
   "id": "e705540a-66d1-40fa-8468-31b98591ff8c",
   "metadata": {},
   "outputs": [],
   "source": []
  }
 ],
 "metadata": {
  "kernelspec": {
   "display_name": "Python 3 (ipykernel)",
   "language": "python",
   "name": "python3"
  },
  "language_info": {
   "codemirror_mode": {
    "name": "ipython",
    "version": 3
   },
   "file_extension": ".py",
   "mimetype": "text/x-python",
   "name": "python",
   "nbconvert_exporter": "python",
   "pygments_lexer": "ipython3",
   "version": "3.10.12"
  }
 },
 "nbformat": 4,
 "nbformat_minor": 5
}
